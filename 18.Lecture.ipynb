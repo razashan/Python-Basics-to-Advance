{
 "cells": [
  {
   "cell_type": "markdown",
   "id": "013e44d6",
   "metadata": {},
   "source": [
    "# Decorators"
   ]
  },
  {
   "cell_type": "markdown",
   "id": "4235d8f8",
   "metadata": {},
   "source": [
    "Decorators are a powerful and flexible way to modify or enhance the behavior of functions or methods without changing their actual code. Decorators allow you to wrap a function inside another function, commonly referred to as a \"decorator function,\" which can perform some additional actions before or after the wrapped function is executed.\n",
    "\n",
    "Decorators are often used for tasks such as logging, timing, authentication, and more. They provide a clean and modular way to add functionality to functions or methods without cluttering the core logic of those functions."
   ]
  },
  {
   "cell_type": "code",
   "execution_count": 2,
   "id": "786125b5",
   "metadata": {},
   "outputs": [
    {
     "name": "stdout",
     "output_type": "stream",
     "text": [
      "Something is happening before the function is called.\n",
      "Hello!\n",
      "Something is happening after the function is called.\n"
     ]
    }
   ],
   "source": [
    "def my_decorator(func):\n",
    "    def wrapper():\n",
    "        print(\"Something is happening before the function is called.\")\n",
    "        func()\n",
    "        print(\"Something is happening after the function is called.\")\n",
    "    return wrapper\n",
    "\n",
    "@my_decorator\n",
    "def say_hello():\n",
    "    print(\"Hello!\")\n",
    "\n",
    "# Calling the decorated function\n",
    "say_hello()\n"
   ]
  },
  {
   "cell_type": "code",
   "execution_count": 5,
   "id": "dd3de46c",
   "metadata": {},
   "outputs": [
    {
     "name": "stdout",
     "output_type": "stream",
     "text": [
      "Hello, Bob! :)\n"
     ]
    }
   ],
   "source": [
    "# Decorator function to add a smiley to the output\n",
    "def add_smiley(func):\n",
    "    def wrapper(name):\n",
    "        result = func(name)\n",
    "        return f\"{result} :)\"\n",
    "    return wrapper\n",
    "\n",
    "# Applying the decorator to a function\n",
    "@add_smiley\n",
    "def greet(name):\n",
    "    return f\"Hello, {name}!\"\n",
    "\n",
    "# Calling the decorated function\n",
    "result = greet(\"Bob\")\n",
    "print(result)\n"
   ]
  },
  {
   "cell_type": "code",
   "execution_count": 6,
   "id": "c12d29bd",
   "metadata": {},
   "outputs": [
    {
     "name": "stdout",
     "output_type": "stream",
     "text": [
      "Calling function: add\n",
      "8\n"
     ]
    }
   ],
   "source": [
    "# Decorator function to log function calls\n",
    "def log_function_call(func):\n",
    "    def wrapper(*args, **kwargs):\n",
    "        print(f\"Calling function: {func.__name__}\")\n",
    "        result = func(*args, **kwargs)\n",
    "        return result\n",
    "    return wrapper\n",
    "\n",
    "# Applying the decorator to a function\n",
    "@log_function_call\n",
    "def add(a, b):\n",
    "    return a + b\n",
    "\n",
    "# Calling the decorated function\n",
    "result = add(3, 5)\n",
    "print(result)"
   ]
  },
  {
   "cell_type": "code",
   "execution_count": 9,
   "id": "1f2d032b",
   "metadata": {},
   "outputs": [
    {
     "name": "stdout",
     "output_type": "stream",
     "text": [
      "9.0\n"
     ]
    }
   ],
   "source": [
    "# Decorator function to square the output\n",
    "def square_output(func):\n",
    "    def wrapper(x):\n",
    "        result = func(x)\n",
    "        return result **2\n",
    "    return wrapper\n",
    "\n",
    "# Applying the decorator to a function\n",
    "@square_output\n",
    "def square_root(x):\n",
    "    return x ** 0.5\n",
    "\n",
    "# Calling the decorated function\n",
    "result = square_root(9)\n",
    "print(result)"
   ]
  },
  {
   "cell_type": "code",
   "execution_count": 11,
   "id": "79585e8f",
   "metadata": {},
   "outputs": [
    {
     "name": "stdout",
     "output_type": "stream",
     "text": [
      "Execution time: 4.0068 seconds\n"
     ]
    }
   ],
   "source": [
    "import time\n",
    "\n",
    "# Decorator function to measure execution time\n",
    "def measure_time(func):\n",
    "    def wrapper(*args, **kwargs):\n",
    "        start_time = time.time()\n",
    "        result = func(*args, **kwargs)\n",
    "        end_time = time.time()\n",
    "        print(f\"Execution time: {end_time - start_time:.4f} seconds\")\n",
    "        return result\n",
    "    return wrapper\n",
    "\n",
    "# Applying the decorator to a function\n",
    "@measure_time\n",
    "def slow_function():\n",
    "    time.sleep(4)  # Simulate a time-consuming operation\n",
    "\n",
    "# Calling the decorated function\n",
    "slow_function()"
   ]
  },
  {
   "cell_type": "code",
   "execution_count": 15,
   "id": "b5431ae8",
   "metadata": {},
   "outputs": [
    {
     "name": "stdout",
     "output_type": "stream",
     "text": [
      "8.2\n"
     ]
    }
   ],
   "source": [
    "# Decorator function to validate argument types\n",
    "def validate_args(func):\n",
    "    def wrapper(x, y):\n",
    "        if not isinstance(x, (int, float)) or not isinstance(y, (int, float)):\n",
    "            raise TypeError(\"Both arguments must be numbers.\")\n",
    "        result = func(x, y)\n",
    "        return result\n",
    "    return wrapper\n",
    "\n",
    "# Applying the decorator to a function\n",
    "@validate_args\n",
    "def add(x, y):\n",
    "    return x + y\n",
    "\n",
    "# Calling the decorated function\n",
    "result = add(3, 5.2)\n",
    "print(result)"
   ]
  },
  {
   "cell_type": "code",
   "execution_count": 16,
   "id": "c5ddf91a",
   "metadata": {},
   "outputs": [
    {
     "name": "stdout",
     "output_type": "stream",
     "text": [
      "55\n"
     ]
    }
   ],
   "source": [
    "# Decorator function for caching\n",
    "def memoize(func):\n",
    "    cache = {}\n",
    "    def wrapper(*args):\n",
    "        if args in cache:\n",
    "            return cache[args]\n",
    "        result = func(*args)\n",
    "        cache[args] = result\n",
    "        return result\n",
    "\n",
    "    return wrapper\n",
    "# Applying the decorator to a function\n",
    "@memoize\n",
    "def fibonacci(n):\n",
    "    if n <= 1:\n",
    "        return n\n",
    "    return fibonacci(n - 1) + fibonacci(n - 2)\n",
    "# Calling the decorated function\n",
    "print(fibonacci(10))"
   ]
  },
  {
   "cell_type": "code",
   "execution_count": null,
   "id": "378197ae",
   "metadata": {},
   "outputs": [],
   "source": []
  }
 ],
 "metadata": {
  "kernelspec": {
   "display_name": "Python 3 (ipykernel)",
   "language": "python",
   "name": "python3"
  },
  "language_info": {
   "codemirror_mode": {
    "name": "ipython",
    "version": 3
   },
   "file_extension": ".py",
   "mimetype": "text/x-python",
   "name": "python",
   "nbconvert_exporter": "python",
   "pygments_lexer": "ipython3",
   "version": "3.7.11"
  }
 },
 "nbformat": 4,
 "nbformat_minor": 5
}
