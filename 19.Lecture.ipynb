{
 "cells": [
  {
   "cell_type": "markdown",
   "id": "cafff087",
   "metadata": {},
   "source": [
    "# Generators"
   ]
  },
  {
   "cell_type": "markdown",
   "id": "aa2e9d51",
   "metadata": {},
   "source": [
    "A generator in Python is a special type of iterable, a construct that allows you to iterate over a sequence of values. What sets generators apart is their ability to generate values on-the-fly, one at a time, rather than creating and storing the entire sequence in memory all at once. This makes them memory-efficient and particularly useful for working with large datasets or infinite sequences.\n",
    "\n",
    "Generators are defined using functions that contain the yield statement. When a generator function is called, it doesn't execute the function's code immediately. Instead, it returns a generator object, which can be iterated over using loops, comprehensions, or other iterator-related constructs. Each time the generator is iterated, the function's code is executed up to the next yield statement, where the current value is emitted as the next item in the sequence. The function's state is saved at the yield statement, allowing it to resume from that point the next time you iterate over the generator.\n",
    "\n",
    "Here's a summary of key characteristics and advantages of generators:\n",
    "\n",
    "1. Lazy Evaluation: Generators produce values on-the-fly as you iterate over them, instead of precomputing and storing the entire sequence in memory.\n",
    "\n",
    "2. Memory Efficiency: Generators are memory-efficient because they only need to hold one value in memory at a time, making them suitable for large datasets.\n",
    "\n",
    "3. Infinite Sequences: Generators can represent infinite sequences, as they generate values as needed without requiring precomputation of the entire sequence.\n",
    "\n",
    "4. State Retention: The state of a generator function is retained between iterations, allowing it to continue execution from where it left off.\n",
    "\n",
    "5. Simple Syntax: Generators are created using function syntax with the yield statement, making them relatively easy to implement.\n",
    "\n",
    "6. Iterable: Generator objects are iterable, which means they can be used in any context that expects an iterable, such as for loops and comprehensions.\n",
    "\n",
    "7. Performance: Generators can improve performance by avoiding unnecessary computations until values are actually needed."
   ]
  },
  {
   "cell_type": "code",
   "execution_count": 1,
   "id": "33b9a5de",
   "metadata": {},
   "outputs": [
    {
     "name": "stdout",
     "output_type": "stream",
     "text": [
      "5\n",
      "4\n",
      "3\n",
      "2\n",
      "1\n"
     ]
    }
   ],
   "source": [
    "def countdown(n):\n",
    "    while n > 0:\n",
    "        yield n\n",
    "        n -= 1\n",
    "\n",
    "# Create a generator object\n",
    "generator = countdown(5)\n",
    "\n",
    "# Iterate through the generator using a for loop\n",
    "for num in generator:\n",
    "    print(num)\n",
    "\n",
    "# Output:\n",
    "# 5\n",
    "# 4\n",
    "# 3\n",
    "# 2\n",
    "# 1\n"
   ]
  },
  {
   "cell_type": "code",
   "execution_count": 2,
   "id": "b38db17f",
   "metadata": {},
   "outputs": [
    {
     "name": "stdout",
     "output_type": "stream",
     "text": [
      "0\n",
      "1\n",
      "1\n",
      "2\n",
      "3\n",
      "5\n",
      "8\n",
      "13\n",
      "21\n",
      "34\n"
     ]
    }
   ],
   "source": [
    "def fibonacci_generator(n):\n",
    "    a, b = 0, 1\n",
    "    for _ in range(n):\n",
    "        yield a\n",
    "        a, b = b, a + b\n",
    "\n",
    "# Create a generator object\n",
    "fibonacci = fibonacci_generator(10)\n",
    "\n",
    "# Iterate through the generator\n",
    "for num in fibonacci:\n",
    "    print(num)\n"
   ]
  },
  {
   "cell_type": "code",
   "execution_count": 3,
   "id": "17401b77",
   "metadata": {},
   "outputs": [
    {
     "name": "stdout",
     "output_type": "stream",
     "text": [
      "0\n",
      "1\n",
      "4\n",
      "9\n",
      "16\n"
     ]
    }
   ],
   "source": [
    "def square_generator(n):\n",
    "    for i in range(n):\n",
    "        yield i ** 2\n",
    "\n",
    "# Create a generator object\n",
    "squares = square_generator(5)\n",
    "\n",
    "# Iterate through the generator\n",
    "for square in squares:\n",
    "    print(square)\n"
   ]
  },
  {
   "cell_type": "code",
   "execution_count": 5,
   "id": "8ce8bfaa",
   "metadata": {},
   "outputs": [
    {
     "name": "stdout",
     "output_type": "stream",
     "text": [
      "0\n",
      "4\n",
      "16\n",
      "36\n",
      "64\n"
     ]
    }
   ],
   "source": [
    "def square_generator(n):\n",
    "    for i in range(n):\n",
    "        yield i ** 2\n",
    "\n",
    "def even_filter(generator):\n",
    "    for number in generator:\n",
    "        if number % 2 == 0:\n",
    "            yield number\n",
    "\n",
    "# Create a generator object for squares\n",
    "squares = square_generator(10)\n",
    "\n",
    "# Create a generator object for even squares\n",
    "even_squares = even_filter(squares)\n",
    "\n",
    "# Iterate through the even squares generator\n",
    "for square in even_squares:\n",
    "    print(square)"
   ]
  },
  {
   "cell_type": "code",
   "execution_count": 6,
   "id": "3bd61020",
   "metadata": {},
   "outputs": [
    {
     "name": "stdout",
     "output_type": "stream",
     "text": [
      "2\n",
      "3\n",
      "5\n",
      "7\n",
      "11\n",
      "13\n",
      "17\n",
      "19\n",
      "23\n",
      "29\n"
     ]
    }
   ],
   "source": [
    "def is_prime(num):\n",
    "    if num <= 1:\n",
    "        return False\n",
    "    if num <= 3:\n",
    "        return True\n",
    "    if num % 2 == 0 or num % 3 == 0:\n",
    "        return False\n",
    "    i = 5\n",
    "    while i * i <= num:\n",
    "        if num % i == 0 or num % (i + 2) == 0:\n",
    "            return False\n",
    "        i += 6\n",
    "    return True\n",
    "\n",
    "def prime_generator():\n",
    "    num = 2\n",
    "    while True:\n",
    "        if is_prime(num):\n",
    "            yield num\n",
    "        num += 1\n",
    "\n",
    "# Create a generator object for prime numbers\n",
    "primes = prime_generator()\n",
    "\n",
    "# Print the first 10 prime numbers\n",
    "for _ in range(10):\n",
    "    print(next(primes))\n"
   ]
  },
  {
   "cell_type": "code",
   "execution_count": null,
   "id": "094fb262",
   "metadata": {},
   "outputs": [],
   "source": []
  }
 ],
 "metadata": {
  "kernelspec": {
   "display_name": "Python 3 (ipykernel)",
   "language": "python",
   "name": "python3"
  },
  "language_info": {
   "codemirror_mode": {
    "name": "ipython",
    "version": 3
   },
   "file_extension": ".py",
   "mimetype": "text/x-python",
   "name": "python",
   "nbconvert_exporter": "python",
   "pygments_lexer": "ipython3",
   "version": "3.7.11"
  }
 },
 "nbformat": 4,
 "nbformat_minor": 5
}
